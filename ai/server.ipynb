{
 "cells": [
  {
   "cell_type": "code",
   "execution_count": 2,
   "metadata": {},
   "outputs": [],
   "source": [
    "import numpy as np\n",
    "import tensorflow as tf\n",
    "from keras.layers import Dropout\n",
    "from keras.models import Sequential, load_model\n",
    "from keras.layers import LSTM, TimeDistributed, Dense, Flatten\n",
    "from keras.optimizers import SGD\n",
    "import random\n",
    "import math\n",
    "import json\n",
    "import os\n",
    "import logging"
   ]
  },
  {
   "cell_type": "code",
   "execution_count": 7,
   "metadata": {},
   "outputs": [],
   "source": [
    "from keras.models import Sequential\n",
    "from keras.models import Model\n",
    "from keras.layers import Input, GRU, Dense, LSTM, TimeDistributed\n",
    "from keras.optimizers.legacy import SGD\n",
    "from keras.optimizers.schedules import ExponentialDecay\n",
    "\n",
    "def GRU_model():\n",
    "\n",
    "    # 모델 정의\n",
    "    model = Sequential()\n",
    "\n",
    "    # GRU 레이어 추가\n",
    "    model.add(GRU(units=50, return_sequences=True, input_shape=(144, 1), activation='tanh'))\n",
    "    model.add(GRU(units=50, return_sequences=True, activation='tanh'))\n",
    "\n",
    "    # 각 타임스텝별 Dense 레이어\n",
    "    model.add(TimeDistributed(Dense(units=1)))\n",
    "\n",
    "    # 모델 컴파일\n",
    "    model.compile(optimizer='adam', loss='mean_squared_error')\n",
    "\n",
    "    return model"
   ]
  },
  {
   "cell_type": "code",
   "execution_count": 4,
   "metadata": {},
   "outputs": [],
   "source": [
    "def aggregation(local_weights):\n",
    "    average_weights = []\n",
    "\n",
    "    # Iterate over each layer index\n",
    "    for layer_index in range(len(local_weights[0])):\n",
    "        # Stack the weights of this layer from all models\n",
    "        layer_weights = np.array([model_weights[layer_index] for model_weights in local_weights])\n",
    "        \n",
    "        # Compute the mean of the weights for this layer\n",
    "        layer_mean = np.mean(layer_weights, axis=0)\n",
    "        \n",
    "        # Append the mean weights for this layer to the list\n",
    "        average_weights.append(layer_mean)\n",
    "\n",
    "    return average_weights"
   ]
  },
  {
   "cell_type": "code",
   "execution_count": 8,
   "metadata": {},
   "outputs": [
    {
     "name": "stderr",
     "output_type": "stream",
     "text": [
      "/home/lmls/jisoo/lib/python3.11/site-packages/keras/src/engine/training.py:3103: UserWarning: You are saving your model as an HDF5 file via `model.save()`. This file format is considered legacy. We recommend using instead the native Keras format, e.g. `model.save('my_model.keras')`.\n",
      "  saving_api.save_model(\n"
     ]
    }
   ],
   "source": [
    "user_name = [\"user1_model\", \"user2_model\", \"user3_model\"]\n",
    "weights = []\n",
    "\n",
    "for i in range(len(user_name)):\n",
    "    model = f\"{user_name[i]}.h5\"\n",
    "    model = load_model(model)    # 모델 로드\n",
    "\n",
    "    local_weights = model.get_weights()\n",
    "    weights.append(local_weights)\n",
    "    \n",
    "global_weights = aggregation(weights)\n",
    "global_model = GRU_model()\n",
    "global_model.set_weights(global_weights)\n",
    "\n",
    "global_model.save(\"global_model.h5\")\n"
   ]
  }
 ],
 "metadata": {
  "kernelspec": {
   "display_name": "Python 3 (ipykernel)",
   "language": "python",
   "name": "python3"
  },
  "language_info": {
   "codemirror_mode": {
    "name": "ipython",
    "version": 3
   },
   "file_extension": ".py",
   "mimetype": "text/x-python",
   "name": "python",
   "nbconvert_exporter": "python",
   "pygments_lexer": "ipython3",
   "version": "3.11.9"
  }
 },
 "nbformat": 4,
 "nbformat_minor": 2
}
